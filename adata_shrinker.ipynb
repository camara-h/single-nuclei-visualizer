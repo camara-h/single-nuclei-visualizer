{
 "cells": [
  {
   "cell_type": "code",
   "execution_count": null,
   "metadata": {},
   "outputs": [
    {
     "name": "stderr",
     "output_type": "stream",
     "text": [
      "/Users/juliana/Projects/snRNAseq_visualizer/.venv/lib/python3.12/site-packages/scanpy/preprocessing/_highly_variable_genes.py:305: RuntimeWarning: invalid value encountered in log\n",
      "  dispersion = np.log(dispersion)\n"
     ]
    },
    {
     "name": "stdout",
     "output_type": "stream",
     "text": [
      "Saved downsized dataset to ./data/shamsi_adata_demo_mini.h5ad with shape (200, 109)\n"
     ]
    }
   ],
   "source": [
    "import scanpy as sc\n",
    "import numpy as np\n",
    "\n",
    "# === Parameters ===\n",
    "INPUT_FILE = \"./data/renamed_shamsi_adata.h5ad\"\n",
    "OUTPUT_FILE = \"./data/shamsi_adata_demo_mini.h5ad\"\n",
    "MAX_CELLS_PER_TYPE = 100   # more cells per type for richer demo\n",
    "HVG_COUNT = 50           # more highly variable genes\n",
    "TOP_MARKERS_PER_TYPE = 5   # keep more top markers\n",
    "TARGET_COMPRESSION = \"gzip\"  # gzip keeps file small\n",
    "\n",
    "# === Load ===\n",
    "adata = sc.read(INPUT_FILE)\n",
    "\n",
    "if \"cell_type_name\" not in adata.obs.columns:\n",
    "    raise ValueError(\"'cell_type_name' column not found in adata.obs\")\n",
    "\n",
    "# === 1. Stratified sampling of cells ===\n",
    "sampled_idx = []\n",
    "for ct in adata.obs[\"cell_type_name\"].unique():\n",
    "    idx = np.where(adata.obs[\"cell_type_name\"] == ct)[0]\n",
    "    if len(idx) > MAX_CELLS_PER_TYPE:\n",
    "        idx = np.random.choice(idx, MAX_CELLS_PER_TYPE, replace=False)\n",
    "    sampled_idx.extend(idx)\n",
    "adata = adata[sampled_idx, :].copy()\n",
    "\n",
    "# === 2. Highly variable genes ===\n",
    "sc.pp.highly_variable_genes(adata, n_top_genes=HVG_COUNT, subset=False)\n",
    "keep_genes = set(adata.var_names[adata.var[\"highly_variable\"]])\n",
    "\n",
    "# === 3. Add top markers per cell type ===\n",
    "for ct in adata.obs[\"cell_type_name\"].unique():\n",
    "    mask = adata.obs[\"cell_type_name\"] == ct\n",
    "    mean_exp = np.asarray(adata[mask].X.mean(axis=0)).ravel()\n",
    "    top_gene_idx = np.argsort(mean_exp)[::-1][:TOP_MARKERS_PER_TYPE]\n",
    "    keep_genes.update(adata.var_names[top_gene_idx])\n",
    "\n",
    "# === 4. Subset genes ===\n",
    "adata = adata[:, list(keep_genes)].copy()\n",
    "\n",
    "# === 5. Convert to float32 to save space ===\n",
    "adata.X = adata.X.astype(np.float32)\n",
    "for layer in list(adata.layers):\n",
    "    adata.layers[layer] = adata.layers[layer].astype(np.float32)\n",
    "\n",
    "# === 6. Preserve .raw so app code works ===\n",
    "adata.raw = adata\n",
    "\n",
    "# === 7. Drop large .uns entries that aren’t needed ===\n",
    "for k in list(adata.uns.keys()):\n",
    "    try:\n",
    "        if isinstance(adata.uns[k], dict) and len(str(adata.uns[k])) > 10000:\n",
    "            del adata.uns[k]\n",
    "    except Exception:\n",
    "        pass\n",
    "\n",
    "# === 8. Save ===\n",
    "adata.write(OUTPUT_FILE, compression=TARGET_COMPRESSION)\n",
    "print(f\"Saved downsized dataset to {OUTPUT_FILE} with shape {adata.shape}\")\n"
   ]
  }
 ],
 "metadata": {
  "kernelspec": {
   "display_name": ".venv",
   "language": "python",
   "name": "python3"
  },
  "language_info": {
   "codemirror_mode": {
    "name": "ipython",
    "version": 3
   },
   "file_extension": ".py",
   "mimetype": "text/x-python",
   "name": "python",
   "nbconvert_exporter": "python",
   "pygments_lexer": "ipython3",
   "version": "3.12.2"
  }
 },
 "nbformat": 4,
 "nbformat_minor": 2
}
